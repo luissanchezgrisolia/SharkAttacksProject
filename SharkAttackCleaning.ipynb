{
 "cells": [
  {
   "cell_type": "code",
   "execution_count": 1,
   "metadata": {},
   "outputs": [],
   "source": [
    "import pandas as pd\n",
    "import numpy as np\n",
    "import re"
   ]
  },
  {
   "cell_type": "code",
   "execution_count": 2,
   "metadata": {},
   "outputs": [],
   "source": [
    "df=pd.read_csv(\"../../CSV/attacks.csv\", encoding='latin1')"
   ]
  },
  {
   "cell_type": "code",
   "execution_count": 3,
   "metadata": {
    "scrolled": true
   },
   "outputs": [
    {
     "name": "stdout",
     "output_type": "stream",
     "text": [
      "(25723, 24)\n"
     ]
    },
    {
     "data": {
      "text/html": [
       "<div>\n",
       "<style scoped>\n",
       "    .dataframe tbody tr th:only-of-type {\n",
       "        vertical-align: middle;\n",
       "    }\n",
       "\n",
       "    .dataframe tbody tr th {\n",
       "        vertical-align: top;\n",
       "    }\n",
       "\n",
       "    .dataframe thead th {\n",
       "        text-align: right;\n",
       "    }\n",
       "</style>\n",
       "<table border=\"1\" class=\"dataframe\">\n",
       "  <thead>\n",
       "    <tr style=\"text-align: right;\">\n",
       "      <th></th>\n",
       "      <th>Case Number</th>\n",
       "      <th>Date</th>\n",
       "      <th>Year</th>\n",
       "      <th>Type</th>\n",
       "      <th>Country</th>\n",
       "      <th>Area</th>\n",
       "      <th>Location</th>\n",
       "      <th>Activity</th>\n",
       "      <th>Name</th>\n",
       "      <th>Sex</th>\n",
       "      <th>...</th>\n",
       "      <th>Species</th>\n",
       "      <th>Investigator or Source</th>\n",
       "      <th>pdf</th>\n",
       "      <th>href formula</th>\n",
       "      <th>href</th>\n",
       "      <th>Case Number.1</th>\n",
       "      <th>Case Number.2</th>\n",
       "      <th>original order</th>\n",
       "      <th>Unnamed: 22</th>\n",
       "      <th>Unnamed: 23</th>\n",
       "    </tr>\n",
       "  </thead>\n",
       "  <tbody>\n",
       "    <tr>\n",
       "      <th>0</th>\n",
       "      <td>2018.06.25</td>\n",
       "      <td>25-Jun-2018</td>\n",
       "      <td>2018.0</td>\n",
       "      <td>Boating</td>\n",
       "      <td>USA</td>\n",
       "      <td>California</td>\n",
       "      <td>Oceanside, San Diego County</td>\n",
       "      <td>Paddling</td>\n",
       "      <td>Julie Wolfe</td>\n",
       "      <td>F</td>\n",
       "      <td>...</td>\n",
       "      <td>White shark</td>\n",
       "      <td>R. Collier, GSAF</td>\n",
       "      <td>2018.06.25-Wolfe.pdf</td>\n",
       "      <td>http://sharkattackfile.net/spreadsheets/pdf_di...</td>\n",
       "      <td>http://sharkattackfile.net/spreadsheets/pdf_di...</td>\n",
       "      <td>2018.06.25</td>\n",
       "      <td>2018.06.25</td>\n",
       "      <td>6303.0</td>\n",
       "      <td>NaN</td>\n",
       "      <td>NaN</td>\n",
       "    </tr>\n",
       "    <tr>\n",
       "      <th>1</th>\n",
       "      <td>2018.06.18</td>\n",
       "      <td>18-Jun-2018</td>\n",
       "      <td>2018.0</td>\n",
       "      <td>Unprovoked</td>\n",
       "      <td>USA</td>\n",
       "      <td>Georgia</td>\n",
       "      <td>St. Simon Island, Glynn County</td>\n",
       "      <td>Standing</td>\n",
       "      <td>Adyson McNeely</td>\n",
       "      <td>F</td>\n",
       "      <td>...</td>\n",
       "      <td>NaN</td>\n",
       "      <td>K.McMurray, TrackingSharks.com</td>\n",
       "      <td>2018.06.18-McNeely.pdf</td>\n",
       "      <td>http://sharkattackfile.net/spreadsheets/pdf_di...</td>\n",
       "      <td>http://sharkattackfile.net/spreadsheets/pdf_di...</td>\n",
       "      <td>2018.06.18</td>\n",
       "      <td>2018.06.18</td>\n",
       "      <td>6302.0</td>\n",
       "      <td>NaN</td>\n",
       "      <td>NaN</td>\n",
       "    </tr>\n",
       "    <tr>\n",
       "      <th>2</th>\n",
       "      <td>2018.06.09</td>\n",
       "      <td>09-Jun-2018</td>\n",
       "      <td>2018.0</td>\n",
       "      <td>Invalid</td>\n",
       "      <td>USA</td>\n",
       "      <td>Hawaii</td>\n",
       "      <td>Habush, Oahu</td>\n",
       "      <td>Surfing</td>\n",
       "      <td>John Denges</td>\n",
       "      <td>M</td>\n",
       "      <td>...</td>\n",
       "      <td>NaN</td>\n",
       "      <td>K.McMurray, TrackingSharks.com</td>\n",
       "      <td>2018.06.09-Denges.pdf</td>\n",
       "      <td>http://sharkattackfile.net/spreadsheets/pdf_di...</td>\n",
       "      <td>http://sharkattackfile.net/spreadsheets/pdf_di...</td>\n",
       "      <td>2018.06.09</td>\n",
       "      <td>2018.06.09</td>\n",
       "      <td>6301.0</td>\n",
       "      <td>NaN</td>\n",
       "      <td>NaN</td>\n",
       "    </tr>\n",
       "    <tr>\n",
       "      <th>3</th>\n",
       "      <td>2018.06.08</td>\n",
       "      <td>08-Jun-2018</td>\n",
       "      <td>2018.0</td>\n",
       "      <td>Unprovoked</td>\n",
       "      <td>AUSTRALIA</td>\n",
       "      <td>New South Wales</td>\n",
       "      <td>Arrawarra Headland</td>\n",
       "      <td>Surfing</td>\n",
       "      <td>male</td>\n",
       "      <td>M</td>\n",
       "      <td>...</td>\n",
       "      <td>2 m shark</td>\n",
       "      <td>B. Myatt, GSAF</td>\n",
       "      <td>2018.06.08-Arrawarra.pdf</td>\n",
       "      <td>http://sharkattackfile.net/spreadsheets/pdf_di...</td>\n",
       "      <td>http://sharkattackfile.net/spreadsheets/pdf_di...</td>\n",
       "      <td>2018.06.08</td>\n",
       "      <td>2018.06.08</td>\n",
       "      <td>6300.0</td>\n",
       "      <td>NaN</td>\n",
       "      <td>NaN</td>\n",
       "    </tr>\n",
       "    <tr>\n",
       "      <th>4</th>\n",
       "      <td>2018.06.04</td>\n",
       "      <td>04-Jun-2018</td>\n",
       "      <td>2018.0</td>\n",
       "      <td>Provoked</td>\n",
       "      <td>MEXICO</td>\n",
       "      <td>Colima</td>\n",
       "      <td>La Ticla</td>\n",
       "      <td>Free diving</td>\n",
       "      <td>Gustavo Ramos</td>\n",
       "      <td>M</td>\n",
       "      <td>...</td>\n",
       "      <td>Tiger shark, 3m</td>\n",
       "      <td>A .Kipper</td>\n",
       "      <td>2018.06.04-Ramos.pdf</td>\n",
       "      <td>http://sharkattackfile.net/spreadsheets/pdf_di...</td>\n",
       "      <td>http://sharkattackfile.net/spreadsheets/pdf_di...</td>\n",
       "      <td>2018.06.04</td>\n",
       "      <td>2018.06.04</td>\n",
       "      <td>6299.0</td>\n",
       "      <td>NaN</td>\n",
       "      <td>NaN</td>\n",
       "    </tr>\n",
       "  </tbody>\n",
       "</table>\n",
       "<p>5 rows × 24 columns</p>\n",
       "</div>"
      ],
      "text/plain": [
       "  Case Number         Date    Year        Type    Country             Area  \\\n",
       "0  2018.06.25  25-Jun-2018  2018.0     Boating        USA       California   \n",
       "1  2018.06.18  18-Jun-2018  2018.0  Unprovoked        USA          Georgia   \n",
       "2  2018.06.09  09-Jun-2018  2018.0     Invalid        USA           Hawaii   \n",
       "3  2018.06.08  08-Jun-2018  2018.0  Unprovoked  AUSTRALIA  New South Wales   \n",
       "4  2018.06.04  04-Jun-2018  2018.0    Provoked     MEXICO           Colima   \n",
       "\n",
       "                         Location     Activity             Name Sex   ...  \\\n",
       "0     Oceanside, San Diego County     Paddling      Julie Wolfe    F  ...   \n",
       "1  St. Simon Island, Glynn County     Standing  Adyson McNeely     F  ...   \n",
       "2                    Habush, Oahu      Surfing      John Denges    M  ...   \n",
       "3              Arrawarra Headland      Surfing             male    M  ...   \n",
       "4                        La Ticla  Free diving   Gustavo Ramos     M  ...   \n",
       "\n",
       "          Species           Investigator or Source                       pdf  \\\n",
       "0      White shark                R. Collier, GSAF      2018.06.25-Wolfe.pdf   \n",
       "1              NaN  K.McMurray, TrackingSharks.com    2018.06.18-McNeely.pdf   \n",
       "2              NaN  K.McMurray, TrackingSharks.com     2018.06.09-Denges.pdf   \n",
       "3        2 m shark                  B. Myatt, GSAF  2018.06.08-Arrawarra.pdf   \n",
       "4  Tiger shark, 3m                       A .Kipper      2018.06.04-Ramos.pdf   \n",
       "\n",
       "                                        href formula  \\\n",
       "0  http://sharkattackfile.net/spreadsheets/pdf_di...   \n",
       "1  http://sharkattackfile.net/spreadsheets/pdf_di...   \n",
       "2  http://sharkattackfile.net/spreadsheets/pdf_di...   \n",
       "3  http://sharkattackfile.net/spreadsheets/pdf_di...   \n",
       "4  http://sharkattackfile.net/spreadsheets/pdf_di...   \n",
       "\n",
       "                                                href Case Number.1  \\\n",
       "0  http://sharkattackfile.net/spreadsheets/pdf_di...    2018.06.25   \n",
       "1  http://sharkattackfile.net/spreadsheets/pdf_di...    2018.06.18   \n",
       "2  http://sharkattackfile.net/spreadsheets/pdf_di...    2018.06.09   \n",
       "3  http://sharkattackfile.net/spreadsheets/pdf_di...    2018.06.08   \n",
       "4  http://sharkattackfile.net/spreadsheets/pdf_di...    2018.06.04   \n",
       "\n",
       "  Case Number.2 original order Unnamed: 22 Unnamed: 23  \n",
       "0    2018.06.25         6303.0         NaN         NaN  \n",
       "1    2018.06.18         6302.0         NaN         NaN  \n",
       "2    2018.06.09         6301.0         NaN         NaN  \n",
       "3    2018.06.08         6300.0         NaN         NaN  \n",
       "4    2018.06.04         6299.0         NaN         NaN  \n",
       "\n",
       "[5 rows x 24 columns]"
      ]
     },
     "execution_count": 3,
     "metadata": {},
     "output_type": "execute_result"
    }
   ],
   "source": [
    "print(df.shape)\n",
    "df.head() #Investigo un poco lo que contiene el DF\n"
   ]
  },
  {
   "cell_type": "code",
   "execution_count": 4,
   "metadata": {},
   "outputs": [
    {
     "data": {
      "text/plain": [
       "Index(['Case Number', 'Date', 'Year', 'Type', 'Country', 'Area', 'Location',\n",
       "       'Activity', 'Name', 'Sex ', 'Age', 'Injury', 'Fatal (Y/N)', 'Time',\n",
       "       'Species ', 'Investigator or Source', 'pdf', 'href formula', 'href',\n",
       "       'Case Number.1', 'Case Number.2', 'original order', 'Unnamed: 22',\n",
       "       'Unnamed: 23'],\n",
       "      dtype='object')"
      ]
     },
     "execution_count": 4,
     "metadata": {},
     "output_type": "execute_result"
    }
   ],
   "source": [
    "df.columns "
   ]
  },
  {
   "cell_type": "code",
   "execution_count": 5,
   "metadata": {},
   "outputs": [],
   "source": [
    "df2=df.drop(['Case Number', 'Date','Type','Area', 'Location','Name','Sex ','Age','Injury','Investigator or Source', 'pdf', 'href formula', 'href',\n",
    "       'Case Number.1', 'Case Number.2', 'original order', 'Unnamed: 22',\n",
    "       'Unnamed: 23'], axis=1) #Elimino las columnas que no me aportan información para el estudio que quiero hacer"
   ]
  },
  {
   "cell_type": "code",
   "execution_count": 6,
   "metadata": {},
   "outputs": [
    {
     "data": {
      "text/html": [
       "<div>\n",
       "<style scoped>\n",
       "    .dataframe tbody tr th:only-of-type {\n",
       "        vertical-align: middle;\n",
       "    }\n",
       "\n",
       "    .dataframe tbody tr th {\n",
       "        vertical-align: top;\n",
       "    }\n",
       "\n",
       "    .dataframe thead th {\n",
       "        text-align: right;\n",
       "    }\n",
       "</style>\n",
       "<table border=\"1\" class=\"dataframe\">\n",
       "  <thead>\n",
       "    <tr style=\"text-align: right;\">\n",
       "      <th></th>\n",
       "      <th>Year</th>\n",
       "      <th>Country</th>\n",
       "      <th>Activity</th>\n",
       "      <th>Fatal (Y/N)</th>\n",
       "      <th>Time</th>\n",
       "      <th>Species</th>\n",
       "    </tr>\n",
       "  </thead>\n",
       "  <tbody>\n",
       "    <tr>\n",
       "      <th>0</th>\n",
       "      <td>2018.0</td>\n",
       "      <td>USA</td>\n",
       "      <td>Paddling</td>\n",
       "      <td>N</td>\n",
       "      <td>18h00</td>\n",
       "      <td>White shark</td>\n",
       "    </tr>\n",
       "    <tr>\n",
       "      <th>1</th>\n",
       "      <td>2018.0</td>\n",
       "      <td>USA</td>\n",
       "      <td>Standing</td>\n",
       "      <td>N</td>\n",
       "      <td>14h00  -15h00</td>\n",
       "      <td>NaN</td>\n",
       "    </tr>\n",
       "    <tr>\n",
       "      <th>2</th>\n",
       "      <td>2018.0</td>\n",
       "      <td>USA</td>\n",
       "      <td>Surfing</td>\n",
       "      <td>N</td>\n",
       "      <td>07h45</td>\n",
       "      <td>NaN</td>\n",
       "    </tr>\n",
       "    <tr>\n",
       "      <th>3</th>\n",
       "      <td>2018.0</td>\n",
       "      <td>AUSTRALIA</td>\n",
       "      <td>Surfing</td>\n",
       "      <td>N</td>\n",
       "      <td>NaN</td>\n",
       "      <td>2 m shark</td>\n",
       "    </tr>\n",
       "    <tr>\n",
       "      <th>4</th>\n",
       "      <td>2018.0</td>\n",
       "      <td>MEXICO</td>\n",
       "      <td>Free diving</td>\n",
       "      <td>N</td>\n",
       "      <td>NaN</td>\n",
       "      <td>Tiger shark, 3m</td>\n",
       "    </tr>\n",
       "    <tr>\n",
       "      <th>...</th>\n",
       "      <td>...</td>\n",
       "      <td>...</td>\n",
       "      <td>...</td>\n",
       "      <td>...</td>\n",
       "      <td>...</td>\n",
       "      <td>...</td>\n",
       "    </tr>\n",
       "    <tr>\n",
       "      <th>6298</th>\n",
       "      <td>0.0</td>\n",
       "      <td>AUSTRALIA</td>\n",
       "      <td>Pearl diving</td>\n",
       "      <td>Y</td>\n",
       "      <td>NaN</td>\n",
       "      <td>NaN</td>\n",
       "    </tr>\n",
       "    <tr>\n",
       "      <th>6299</th>\n",
       "      <td>0.0</td>\n",
       "      <td>USA</td>\n",
       "      <td>Swimming</td>\n",
       "      <td>Y</td>\n",
       "      <td>NaN</td>\n",
       "      <td>NaN</td>\n",
       "    </tr>\n",
       "    <tr>\n",
       "      <th>6300</th>\n",
       "      <td>0.0</td>\n",
       "      <td>PANAMA</td>\n",
       "      <td>NaN</td>\n",
       "      <td>Y</td>\n",
       "      <td>NaN</td>\n",
       "      <td>NaN</td>\n",
       "    </tr>\n",
       "    <tr>\n",
       "      <th>6301</th>\n",
       "      <td>0.0</td>\n",
       "      <td>CEYLON (SRI LANKA)</td>\n",
       "      <td>Swimming</td>\n",
       "      <td>Y</td>\n",
       "      <td>NaN</td>\n",
       "      <td>NaN</td>\n",
       "    </tr>\n",
       "    <tr>\n",
       "      <th>6302</th>\n",
       "      <td>NaN</td>\n",
       "      <td>NaN</td>\n",
       "      <td>NaN</td>\n",
       "      <td>NaN</td>\n",
       "      <td>NaN</td>\n",
       "      <td>NaN</td>\n",
       "    </tr>\n",
       "  </tbody>\n",
       "</table>\n",
       "<p>6118 rows × 6 columns</p>\n",
       "</div>"
      ],
      "text/plain": [
       "        Year             Country      Activity Fatal (Y/N)           Time  \\\n",
       "0     2018.0                 USA      Paddling           N          18h00   \n",
       "1     2018.0                 USA      Standing           N  14h00  -15h00   \n",
       "2     2018.0                 USA       Surfing           N          07h45   \n",
       "3     2018.0           AUSTRALIA       Surfing           N            NaN   \n",
       "4     2018.0              MEXICO   Free diving           N            NaN   \n",
       "...      ...                 ...           ...         ...            ...   \n",
       "6298     0.0           AUSTRALIA  Pearl diving           Y            NaN   \n",
       "6299     0.0                 USA      Swimming           Y            NaN   \n",
       "6300     0.0              PANAMA           NaN           Y            NaN   \n",
       "6301     0.0  CEYLON (SRI LANKA)      Swimming           Y            NaN   \n",
       "6302     NaN                 NaN           NaN         NaN            NaN   \n",
       "\n",
       "             Species   \n",
       "0         White shark  \n",
       "1                 NaN  \n",
       "2                 NaN  \n",
       "3           2 m shark  \n",
       "4     Tiger shark, 3m  \n",
       "...               ...  \n",
       "6298              NaN  \n",
       "6299              NaN  \n",
       "6300              NaN  \n",
       "6301              NaN  \n",
       "6302              NaN  \n",
       "\n",
       "[6118 rows x 6 columns]"
      ]
     },
     "execution_count": 6,
     "metadata": {},
     "output_type": "execute_result"
    }
   ],
   "source": [
    "df2.drop_duplicates() #Elimino los valores que están duplicados "
   ]
  },
  {
   "cell_type": "code",
   "execution_count": 7,
   "metadata": {},
   "outputs": [
    {
     "name": "stdout",
     "output_type": "stream",
     "text": [
      "(25723, 6)\n"
     ]
    },
    {
     "data": {
      "text/html": [
       "<div>\n",
       "<style scoped>\n",
       "    .dataframe tbody tr th:only-of-type {\n",
       "        vertical-align: middle;\n",
       "    }\n",
       "\n",
       "    .dataframe tbody tr th {\n",
       "        vertical-align: top;\n",
       "    }\n",
       "\n",
       "    .dataframe thead th {\n",
       "        text-align: right;\n",
       "    }\n",
       "</style>\n",
       "<table border=\"1\" class=\"dataframe\">\n",
       "  <thead>\n",
       "    <tr style=\"text-align: right;\">\n",
       "      <th></th>\n",
       "      <th>Year</th>\n",
       "      <th>Country</th>\n",
       "      <th>Activity</th>\n",
       "      <th>Fatal (Y/N)</th>\n",
       "      <th>Time</th>\n",
       "      <th>Species</th>\n",
       "    </tr>\n",
       "  </thead>\n",
       "  <tbody>\n",
       "    <tr>\n",
       "      <th>25718</th>\n",
       "      <td>NaN</td>\n",
       "      <td>NaN</td>\n",
       "      <td>NaN</td>\n",
       "      <td>NaN</td>\n",
       "      <td>NaN</td>\n",
       "      <td>NaN</td>\n",
       "    </tr>\n",
       "    <tr>\n",
       "      <th>25719</th>\n",
       "      <td>NaN</td>\n",
       "      <td>NaN</td>\n",
       "      <td>NaN</td>\n",
       "      <td>NaN</td>\n",
       "      <td>NaN</td>\n",
       "      <td>NaN</td>\n",
       "    </tr>\n",
       "    <tr>\n",
       "      <th>25720</th>\n",
       "      <td>NaN</td>\n",
       "      <td>NaN</td>\n",
       "      <td>NaN</td>\n",
       "      <td>NaN</td>\n",
       "      <td>NaN</td>\n",
       "      <td>NaN</td>\n",
       "    </tr>\n",
       "    <tr>\n",
       "      <th>25721</th>\n",
       "      <td>NaN</td>\n",
       "      <td>NaN</td>\n",
       "      <td>NaN</td>\n",
       "      <td>NaN</td>\n",
       "      <td>NaN</td>\n",
       "      <td>NaN</td>\n",
       "    </tr>\n",
       "    <tr>\n",
       "      <th>25722</th>\n",
       "      <td>NaN</td>\n",
       "      <td>NaN</td>\n",
       "      <td>NaN</td>\n",
       "      <td>NaN</td>\n",
       "      <td>NaN</td>\n",
       "      <td>NaN</td>\n",
       "    </tr>\n",
       "  </tbody>\n",
       "</table>\n",
       "</div>"
      ],
      "text/plain": [
       "       Year Country Activity Fatal (Y/N) Time Species \n",
       "25718   NaN     NaN      NaN         NaN  NaN      NaN\n",
       "25719   NaN     NaN      NaN         NaN  NaN      NaN\n",
       "25720   NaN     NaN      NaN         NaN  NaN      NaN\n",
       "25721   NaN     NaN      NaN         NaN  NaN      NaN\n",
       "25722   NaN     NaN      NaN         NaN  NaN      NaN"
      ]
     },
     "execution_count": 7,
     "metadata": {},
     "output_type": "execute_result"
    }
   ],
   "source": [
    "print(df2.shape) #Miro como ha quedado\n",
    "df2.tail() "
   ]
  },
  {
   "cell_type": "code",
   "execution_count": 8,
   "metadata": {},
   "outputs": [
    {
     "data": {
      "text/plain": [
       "array(['Paddling', 'Standing', 'Surfing', ...,\n",
       "       'Crew swimming alongside their anchored ship',\n",
       "       '4 men were bathing', 'Wreck of  large double sailing canoe'],\n",
       "      dtype=object)"
      ]
     },
     "execution_count": 8,
     "metadata": {},
     "output_type": "execute_result"
    }
   ],
   "source": [
    "df2[\"Activity\"].unique() #Valores de la columna activity.Quiero filtrar y seleccionar los que estaban surfeando."
   ]
  },
  {
   "cell_type": "code",
   "execution_count": 9,
   "metadata": {},
   "outputs": [
    {
     "data": {
      "text/html": [
       "<div>\n",
       "<style scoped>\n",
       "    .dataframe tbody tr th:only-of-type {\n",
       "        vertical-align: middle;\n",
       "    }\n",
       "\n",
       "    .dataframe tbody tr th {\n",
       "        vertical-align: top;\n",
       "    }\n",
       "\n",
       "    .dataframe thead th {\n",
       "        text-align: right;\n",
       "    }\n",
       "</style>\n",
       "<table border=\"1\" class=\"dataframe\">\n",
       "  <thead>\n",
       "    <tr style=\"text-align: right;\">\n",
       "      <th></th>\n",
       "      <th>Year</th>\n",
       "      <th>Country</th>\n",
       "      <th>Activity</th>\n",
       "      <th>Fatal (Y/N)</th>\n",
       "      <th>Time</th>\n",
       "      <th>Species</th>\n",
       "    </tr>\n",
       "  </thead>\n",
       "  <tbody>\n",
       "    <tr>\n",
       "      <th>2</th>\n",
       "      <td>2018.0</td>\n",
       "      <td>USA</td>\n",
       "      <td>Surfing</td>\n",
       "      <td>N</td>\n",
       "      <td>07h45</td>\n",
       "      <td>NaN</td>\n",
       "    </tr>\n",
       "    <tr>\n",
       "      <th>3</th>\n",
       "      <td>2018.0</td>\n",
       "      <td>AUSTRALIA</td>\n",
       "      <td>Surfing</td>\n",
       "      <td>N</td>\n",
       "      <td>NaN</td>\n",
       "      <td>2 m shark</td>\n",
       "    </tr>\n",
       "    <tr>\n",
       "      <th>15</th>\n",
       "      <td>2018.0</td>\n",
       "      <td>SOUTH AFRICA</td>\n",
       "      <td>Surfing</td>\n",
       "      <td>N</td>\n",
       "      <td>11h00</td>\n",
       "      <td>NaN</td>\n",
       "    </tr>\n",
       "    <tr>\n",
       "      <th>16</th>\n",
       "      <td>2018.0</td>\n",
       "      <td>AUSTRALIA</td>\n",
       "      <td>Surfing</td>\n",
       "      <td>N</td>\n",
       "      <td>10h30</td>\n",
       "      <td>Shark involvement not confirmed</td>\n",
       "    </tr>\n",
       "    <tr>\n",
       "      <th>19</th>\n",
       "      <td>2018.0</td>\n",
       "      <td>AUSTRALIA</td>\n",
       "      <td>Surfing</td>\n",
       "      <td>N</td>\n",
       "      <td>16h50</td>\n",
       "      <td>NaN</td>\n",
       "    </tr>\n",
       "    <tr>\n",
       "      <th>...</th>\n",
       "      <td>...</td>\n",
       "      <td>...</td>\n",
       "      <td>...</td>\n",
       "      <td>...</td>\n",
       "      <td>...</td>\n",
       "      <td>...</td>\n",
       "    </tr>\n",
       "    <tr>\n",
       "      <th>5235</th>\n",
       "      <td>1922.0</td>\n",
       "      <td>AUSTRALIA</td>\n",
       "      <td>Surfing</td>\n",
       "      <td>Y</td>\n",
       "      <td>Evening</td>\n",
       "      <td>NaN</td>\n",
       "    </tr>\n",
       "    <tr>\n",
       "      <th>5280</th>\n",
       "      <td>1918.0</td>\n",
       "      <td>AUSTRALIA</td>\n",
       "      <td>Surfing</td>\n",
       "      <td>N</td>\n",
       "      <td>18h00</td>\n",
       "      <td>12' shark</td>\n",
       "    </tr>\n",
       "    <tr>\n",
       "      <th>6097</th>\n",
       "      <td>1828.0</td>\n",
       "      <td>USA</td>\n",
       "      <td>Surfing</td>\n",
       "      <td>Y</td>\n",
       "      <td>NaN</td>\n",
       "      <td>NaN</td>\n",
       "    </tr>\n",
       "    <tr>\n",
       "      <th>6143</th>\n",
       "      <td>1779.0</td>\n",
       "      <td>USA</td>\n",
       "      <td>Surfing</td>\n",
       "      <td>Y</td>\n",
       "      <td>NaN</td>\n",
       "      <td>NaN</td>\n",
       "    </tr>\n",
       "    <tr>\n",
       "      <th>6201</th>\n",
       "      <td>0.0</td>\n",
       "      <td>USA</td>\n",
       "      <td>Surfing</td>\n",
       "      <td>N</td>\n",
       "      <td>NaN</td>\n",
       "      <td>NaN</td>\n",
       "    </tr>\n",
       "  </tbody>\n",
       "</table>\n",
       "<p>971 rows × 6 columns</p>\n",
       "</div>"
      ],
      "text/plain": [
       "        Year       Country Activity Fatal (Y/N)     Time  \\\n",
       "2     2018.0           USA  Surfing           N    07h45   \n",
       "3     2018.0     AUSTRALIA  Surfing           N      NaN   \n",
       "15    2018.0  SOUTH AFRICA  Surfing           N    11h00   \n",
       "16    2018.0     AUSTRALIA  Surfing           N    10h30   \n",
       "19    2018.0     AUSTRALIA  Surfing           N    16h50   \n",
       "...      ...           ...      ...         ...      ...   \n",
       "5235  1922.0     AUSTRALIA  Surfing           Y  Evening   \n",
       "5280  1918.0     AUSTRALIA  Surfing           N    18h00   \n",
       "6097  1828.0           USA  Surfing           Y      NaN   \n",
       "6143  1779.0           USA  Surfing           Y      NaN   \n",
       "6201     0.0           USA  Surfing           N      NaN   \n",
       "\n",
       "                             Species   \n",
       "2                                 NaN  \n",
       "3                           2 m shark  \n",
       "15                                NaN  \n",
       "16    Shark involvement not confirmed  \n",
       "19                                NaN  \n",
       "...                               ...  \n",
       "5235                              NaN  \n",
       "5280                        12' shark  \n",
       "6097                              NaN  \n",
       "6143                              NaN  \n",
       "6201                              NaN  \n",
       "\n",
       "[971 rows x 6 columns]"
      ]
     },
     "execution_count": 9,
     "metadata": {},
     "output_type": "execute_result"
    }
   ],
   "source": [
    "data_filter = df2[df2[\"Activity\"] == \"Surfing\" ] \n",
    "data_filter"
   ]
  },
  {
   "cell_type": "code",
   "execution_count": 10,
   "metadata": {},
   "outputs": [
    {
     "data": {
      "text/plain": [
       "Year             0\n",
       "Country          1\n",
       "Activity         0\n",
       "Fatal (Y/N)     38\n",
       "Time           222\n",
       "Species        380\n",
       "dtype: int64"
      ]
     },
     "execution_count": 10,
     "metadata": {},
     "output_type": "execute_result"
    }
   ],
   "source": [
    "data_filter.isnull().sum() #Hay bastantes nulos en columnas que me interesan. Voy a eliminarlos."
   ]
  },
  {
   "cell_type": "code",
   "execution_count": 11,
   "metadata": {},
   "outputs": [
    {
     "data": {
      "text/plain": [
       "2       1\n",
       "3       1\n",
       "15      1\n",
       "16      0\n",
       "19      1\n",
       "       ..\n",
       "5235    1\n",
       "5280    0\n",
       "6097    2\n",
       "6143    2\n",
       "6201    2\n",
       "Length: 971, dtype: int64"
      ]
     },
     "execution_count": 11,
     "metadata": {},
     "output_type": "execute_result"
    }
   ],
   "source": [
    "data_filter.isnull().sum(axis=1) #Chequeo cuantos nulos hay como máximo en una fila "
   ]
  },
  {
   "cell_type": "code",
   "execution_count": 12,
   "metadata": {},
   "outputs": [
    {
     "data": {
      "text/plain": [
       "Year           0\n",
       "Country        0\n",
       "Activity       0\n",
       "Fatal (Y/N)    0\n",
       "Time           0\n",
       "Species        0\n",
       "dtype: int64"
      ]
     },
     "execution_count": 12,
     "metadata": {},
     "output_type": "execute_result"
    }
   ],
   "source": [
    "data_filter=data_filter.dropna(thresh=6) #Mantiene las filas que tienen 6 o más valores no nulos. Es decir, elimina las que tienen 2 nulos o más.\n",
    "data_filter.isnull().sum() "
   ]
  },
  {
   "cell_type": "code",
   "execution_count": 13,
   "metadata": {},
   "outputs": [
    {
     "data": {
      "text/plain": [
       "N    430\n",
       "Y     26\n",
       "Name: Fatal (Y/N), dtype: int64"
      ]
     },
     "execution_count": 13,
     "metadata": {},
     "output_type": "execute_result"
    }
   ],
   "source": [
    "data_filter['Fatal (Y/N)'].value_counts()  #Voy a limpiar los nulos de la columna \"Fatal Y/N\".Primero quiero chequear que valores hay "
   ]
  },
  {
   "cell_type": "code",
   "execution_count": 14,
   "metadata": {},
   "outputs": [
    {
     "name": "stderr",
     "output_type": "stream",
     "text": [
      "/usr/local/lib/python3.7/site-packages/ipykernel_launcher.py:2: SettingWithCopyWarning: \n",
      "A value is trying to be set on a copy of a slice from a DataFrame.\n",
      "Try using .loc[row_indexer,col_indexer] = value instead\n",
      "\n",
      "See the caveats in the documentation: https://pandas.pydata.org/pandas-docs/stable/user_guide/indexing.html#returning-a-view-versus-a-copy\n",
      "  \n",
      "/usr/local/lib/python3.7/site-packages/ipykernel_launcher.py:3: SettingWithCopyWarning: \n",
      "A value is trying to be set on a copy of a slice from a DataFrame.\n",
      "Try using .loc[row_indexer,col_indexer] = value instead\n",
      "\n",
      "See the caveats in the documentation: https://pandas.pydata.org/pandas-docs/stable/user_guide/indexing.html#returning-a-view-versus-a-copy\n",
      "  This is separate from the ipykernel package so we can avoid doing imports until\n"
     ]
    },
    {
     "data": {
      "text/plain": [
       "N    430\n",
       "Y     26\n",
       "Name: Fatal (Y/N), dtype: int64"
      ]
     },
     "execution_count": 14,
     "metadata": {},
     "output_type": "execute_result"
    }
   ],
   "source": [
    "#El 94,7% de los ataques no son mortales, por lo que aplicaré ese porcentaje sobre los nulos y sobre los UNKNOW para rellenar sus valores\n",
    "data_filter['Fatal (Y/N)']=data_filter['Fatal (Y/N)'].fillna(\"N\")\n",
    "data_filter['Fatal (Y/N)']=data_filter['Fatal (Y/N)'].replace({'UNKNOWN':'Y'})\n",
    "data_filter['Fatal (Y/N)'].value_counts()\n"
   ]
  },
  {
   "cell_type": "code",
   "execution_count": 15,
   "metadata": {},
   "outputs": [
    {
     "data": {
      "text/plain": [
       "array(['\"Just before 11h00\"', '--', '05h40', '05h45', '06h00', '06h10',\n",
       "       '06h15', '06h30', '06h45', '06j00', '07h00', '07h05', '07h08',\n",
       "       '07h15', '07h19', '07h30', '07h40', '07h45', '0830', '08h00',\n",
       "       '08h05', '08h10', '08h15', '08h30', '08h35', '08h45', '08h50',\n",
       "       '08h57', '09h00', '09h00 -10h00', '09h05', '09h11', '09h15',\n",
       "       '09h30', '09h35', '09h45', '10h00', '10h15', '10h16', '10h20',\n",
       "       '10h25', '10h27', '10h28', '10h30', '10h35', '10h40', '10h45',\n",
       "       '10h55', '11h00', '11h06', '11h10', '11h115', '11h15', '11h30',\n",
       "       '11h40', '11h45', '11h50', '11h53', '12h00', '12h05', '12h30',\n",
       "       '12h38', '12h39', '12h40', '12h45', '13h00', '13h15', '13h20',\n",
       "       '13h25', '13h26', '13h30', '13h40', '13h45', '13h50', '13h53',\n",
       "       '14h00', '14h10', '14h15', '14h20', '14h30', '14h35', '14h40',\n",
       "       '14h45', '14h50', '15h00', '15h30', '15h35', '15h45', '15h50',\n",
       "       '16h00', '16h05', '16h14', '16h15', '16h20', '16h30',\n",
       "       '16h30 or 18h00', '16h45', '16h50', '16h55', '17h00',\n",
       "       '17h00 or 17h40', '17h15', '17h17', '17h30', '17h45', '17h50',\n",
       "       '18h00', '18h05', '18h15', '18h20', '18h30', '18h45', '18h50',\n",
       "       '19h00', '19h28', '19h30', '20h00', '20h15', '20h30',\n",
       "       '20h45 (Sunset)', '8:04 pm', '9h00', 'Afternoon', 'Early Morning',\n",
       "       'Early morning', 'Evening', 'Just before sundown',\n",
       "       'Late afternoon', 'Morning', 'Noon', 'X'], dtype=object)"
      ]
     },
     "execution_count": 15,
     "metadata": {},
     "output_type": "execute_result"
    }
   ],
   "source": [
    "data_filter['Time'].sort_values().unique() #Quiero normalizar la columna \"Time\".Chequeo valores"
   ]
  },
  {
   "cell_type": "code",
   "execution_count": 16,
   "metadata": {},
   "outputs": [
    {
     "name": "stderr",
     "output_type": "stream",
     "text": [
      "/usr/local/lib/python3.7/site-packages/pandas/core/generic.py:5303: SettingWithCopyWarning: \n",
      "A value is trying to be set on a copy of a slice from a DataFrame.\n",
      "Try using .loc[row_indexer,col_indexer] = value instead\n",
      "\n",
      "See the caveats in the documentation: https://pandas.pydata.org/pandas-docs/stable/user_guide/indexing.html#returning-a-view-versus-a-copy\n",
      "  self[name] = value\n",
      "/usr/local/lib/python3.7/site-packages/pandas/core/indexing.py:966: SettingWithCopyWarning: \n",
      "A value is trying to be set on a copy of a slice from a DataFrame.\n",
      "Try using .loc[row_indexer,col_indexer] = value instead\n",
      "\n",
      "See the caveats in the documentation: https://pandas.pydata.org/pandas-docs/stable/user_guide/indexing.html#returning-a-view-versus-a-copy\n",
      "  self.obj[item] = s\n"
     ]
    }
   ],
   "source": [
    "data_filter.Time=data_filter.Time.apply(str) #Los convierto a string\n",
    "data_filter.loc[data_filter[\"Time\"].str.startswith(\"0\"),\"Time\"] = \"Early Morning\"\n",
    "data_filter.loc[data_filter[\"Time\"].str.startswith(\"2\"),\"Time\"] = \"Late Afternoon\"\n",
    "data_filter.loc[data_filter[\"Time\"].str.startswith(\"10\"),\"Time\"] = \"Morning\"\n",
    "data_filter.loc[data_filter[\"Time\"].str.startswith(\"11\"),\"Time\"] = \"Morning\"\n",
    "data_filter.loc[data_filter[\"Time\"].str.startswith(\"12\"),\"Time\"] = \"Morning\"\n",
    "data_filter.loc[data_filter[\"Time\"].str.startswith(\"13\"),\"Time\"] = \"Morning\"\n",
    "data_filter.loc[data_filter[\"Time\"].str.startswith(\"14\"),\"Time\"] = \"Morning\"\n",
    "data_filter.loc[data_filter[\"Time\"].str.startswith(\"15\"),\"Time\"] = \"Afternoon\"\n",
    "data_filter.loc[data_filter[\"Time\"].str.startswith(\"16\"),\"Time\"] = \"Afternoon\"\n",
    "data_filter.loc[data_filter[\"Time\"].str.startswith(\"17\"),\"Time\"] = \"Afternoon\"\n",
    "data_filter.loc[data_filter[\"Time\"].str.startswith(\"18\"),\"Time\"] = \"Afternoon\"\n",
    "data_filter.loc[data_filter[\"Time\"].str.startswith(\"19\"),\"Time\"] = \"Afternoon\""
   ]
  },
  {
   "cell_type": "code",
   "execution_count": 17,
   "metadata": {},
   "outputs": [
    {
     "data": {
      "text/plain": [
       "Morning           184\n",
       "Afternoon         154\n",
       "Early Morning     100\n",
       "Late Afternoon     18\n",
       "Name: Time, dtype: int64"
      ]
     },
     "execution_count": 17,
     "metadata": {},
     "output_type": "execute_result"
    }
   ],
   "source": [
    "#Normalizo en 4 valores + Unknown \n",
    "data_filter.Time=data_filter.Time.replace({                \n",
    "    \"Sometime between 06h00 & 08hoo\": \"Early Morning\",\n",
    "    \"Just before noon\": \"Morning\",\n",
    "    \"AM\": \"Early Morning\",\n",
    "    \"8:04 pm\": \"Early Morning\",\n",
    "    \"9h00\": \"Early Morning\",\n",
    "    \"Noon\": \"Morning\",\n",
    "    '\"Just before 11h00\"': \"Early Morning\",\n",
    "    \"X\": \"Morning\",\n",
    "    \"Just before 11h00\": \"Morning\",\n",
    "    \"After noon\": \"Morning\",\n",
    "    \"Early morning\": \"Early Morning\",\n",
    "    \"--\": \"Morning\"\n",
    "})\n",
    "data_filter.Time=data_filter.Time.replace({\n",
    "    \"LateAfternoon\": \"Late Afternoon\",\n",
    "    \"Evening\": \"Late Afternoon\", \n",
    "    \"Late afternoon\": \"Late Afternoon\",\n",
    "    \"Dusk\":\"Late Afternoon\",\n",
    "    \"Just before sundown\": \"Late Afternoon\",\n",
    "    \"After Dusk\": \"LateAfternoon\",\n",
    "    \"30 minutes after 1992.07.08.a\": \"Late Afternoon\",\n",
    "    \"P.M.\": \"Late Afternoon\",\n",
    "    \"nan\": \"Unknown\"                                       #Porque los Nan ahora son strings y no puedo con fillna\n",
    "})\n",
    "\n",
    "data_filter.Time.value_counts()"
   ]
  },
  {
   "cell_type": "code",
   "execution_count": 18,
   "metadata": {},
   "outputs": [
    {
     "data": {
      "text/plain": [
       "0"
      ]
     },
     "execution_count": 18,
     "metadata": {},
     "output_type": "execute_result"
    }
   ],
   "source": [
    "data_filter.Country.isnull().sum() #Ningún nulo, esta columna no tengo que limpiarla"
   ]
  },
  {
   "cell_type": "code",
   "execution_count": 19,
   "metadata": {},
   "outputs": [
    {
     "name": "stderr",
     "output_type": "stream",
     "text": [
      "/usr/local/lib/python3.7/site-packages/ipykernel_launcher.py:2: SettingWithCopyWarning: \n",
      "A value is trying to be set on a copy of a slice from a DataFrame.\n",
      "Try using .loc[row_indexer,col_indexer] = value instead\n",
      "\n",
      "See the caveats in the documentation: https://pandas.pydata.org/pandas-docs/stable/user_guide/indexing.html#returning-a-view-versus-a-copy\n",
      "  \n"
     ]
    }
   ],
   "source": [
    "data_filter[\"Species \"].sort_values().unique()\n",
    "data_filter[\"Species \"]=data_filter[\"Species \"].apply(str) #Los convierto a string \n"
   ]
  },
  {
   "cell_type": "code",
   "execution_count": 20,
   "metadata": {},
   "outputs": [
    {
     "name": "stdout",
     "output_type": "stream",
     "text": [
      "[[], [], [], ['White shark'], ['Tiger shark'], ['White shark'], [], ['small shark'], ['Tiger shark'], [], ['Wobbegong shark'], ['Tiger shark'], [], ['White shark'], [], [], ['White shark'], ['White shark'], ['White shark'], ['White shark'], ['gill shark'], ['White shark'], ['Tiger shark'], ['Bull shark'], ['White shark'], [], ['White shark'], ['Bull shark'], ['Bull shark'], [], ['White shark'], ['Bull shark'], ['Reef shark'], ['whaler shark'], ['Bull shark'], ['White shark'], [], ['Spinner shark'], ['Tiger shark'], ['Blacktip shark'], ['Blacktip shark'], ['juvenile shark'], [], ['White shark'], ['White shark'], [], ['White shark'], ['spinner shark'], ['White shark'], ['White shark'], ['White shark'], ['White shark'], ['Bull shark'], [], ['White shark'], ['White shark'], ['Bull shark'], [], [], ['Raggedtooth shark'], [], ['White shark'], [], ['Tiger shark'], [], [], ['Blacktip shark'], ['Blacktip shark'], [], ['white shark'], ['White shark'], ['metre shark'], ['white shark'], [], ['gill shark'], ['White shark'], [], ['Wobbegong shark'], ['white shark'], ['White shark'], ['white shark'], ['Wobbegong shark'], ['Tiger shark'], ['White shark'], [], [], ['White shark'], ['Bull shark'], ['Tiger shark'], [], ['Galapagos shark'], ['small shark'], ['Bull shark'], [], ['reef shark'], ['reef shark'], ['Blacktip shark'], ['Tiger shark'], [], ['Tiger shark'], [], [], ['Tiger shark'], ['White shark'], ['White shark'], [], [], ['Bull shark'], ['White shark'], ['White shark'], [], [], [], [], ['Tiger shark'], ['bull shark'], ['bull shark'], [], [], ['White shark'], [], ['White shark'], [], ['spinner shark'], [], ['White shark'], ['reef shark'], ['White shark'], ['White shark'], ['Tiger shark'], ['whaler shark'], ['Bull shark'], ['Bull shark'], ['Bull shark'], ['lemon shark'], ['White shark'], [], ['White shark'], [], [], [], [], [], ['Wobbegong shark'], [], [], [], ['White shark'], ['Tiger shark'], ['whale shark'], ['spinner shark'], ['spinner shark'], ['spinner shark'], [], ['whaler shark'], [], [], ['White shark'], ['White shark'], ['White shark'], ['White shark'], [], ['Tiger shark'], ['White shark'], [], [], [], ['white shark', 'gill shark'], [], ['Tiger shark'], [], [], [], ['White shark'], [], ['Tiger shark'], [], [], [], ['White shark'], [], ['Blacktip shark'], ['White shark'], [], [], ['White shark'], [], [], [], [], ['Tiger shark'], [], [], [], ['Tiger shark'], [], [], [], [], ['tiger shark'], [], [], ['White shark'], ['White shark'], ['whaler shark'], ['White shark'], [], ['spinner shark'], [], ['white shark'], ['whaler shark'], ['Tiger shark'], ['Tiger shark'], ['whaler shark'], ['Raggedtooth shark'], [], ['White shark'], [], [], [], [], ['white shark'], ['White shark'], ['white shark'], ['Tiger shark'], ['white shark'], ['whaler shark'], ['white shark'], ['white shark'], [], ['Raggedtooth shark'], ['Tiger shark'], ['whaler shark'], [], ['Tiger shark'], ['Raggedtooth shark'], ['white shark'], ['whaler shark'], ['white shark'], ['Raggedtooth shark'], ['White shark'], ['white shark'], [], ['white shark'], [], ['Tiger shark'], ['white shark'], ['bull shark'], ['bull shark'], [], ['Tiger shark'], [], [], [], ['nurse shark'], ['Tiger shark'], [], [], [], [], [], ['Bull shark'], [], [], [], [], [], [], ['Mako shark'], [], ['whaler shark'], [], ['spinner shark'], [], [], [], [], ['Tiger shark'], [], ['Nurse shark'], ['sandbar shark'], ['tiger shark'], [], [], ['white shark'], ['Spinner shark'], ['whaler shark'], ['Tiger shark'], ['small shark'], ['spinner shark'], ['spinner shark'], ['Blacktip shark'], [], ['spinner shark'], ['spinner shark'], ['spinner shark'], ['spinner shark'], ['reef shark'], ['White shark'], ['whaler shark'], ['whaler shark'], ['White shark'], [], ['Blacktip shark'], ['White shark'], ['White shark'], ['White shark'], ['Tiger shark'], ['Blacktip shark'], [], ['Tiger shark'], ['Lemon shark'], ['small shark'], ['White shark'], ['Tiger shark'], ['White shark'], [], ['Tiger shark'], ['tiger shark'], ['Spinner shark'], ['white shark'], [], ['white shark'], [], [], ['Lemon shark'], ['dusky shark', 'blackfin shark'], ['blacktip shark'], [], ['blacktip shark'], ['white shark'], ['spinner shark'], ['sand shark'], ['sand shark'], ['White shark'], ['white shark'], ['white shark'], [], ['white shark'], ['white shark'], ['white shark'], [], ['spinner shark'], ['Tiger shark'], [], [], [], ['small shark'], ['small shark'], ['whaler shark'], ['white shark'], ['white shark'], ['white shark'], ['small shark'], ['spinner shark'], [], [], ['white shark'], ['white shark'], ['white shark'], ['white shark'], ['blacktip shark'], [], ['Tiger shark'], ['white shark'], ['white shark'], ['white shark'], ['white shark'], ['Bull shark', 'lemon shark'], ['Tiger shark'], [], [], ['white shark'], ['Tiger shark'], ['white shark'], ['white shark'], [], [], ['spinner shark'], ['Tiger shark'], [], ['white shark'], ['Tiger shark'], ['bull shark'], ['white shark'], [], ['white shark'], ['whaler shark'], ['white shark'], ['white shark'], ['white shark'], [], [], [], ['white shark'], [], [], [], ['blacktip shark'], [], ['white shark'], [], ['blacktip shark'], ['white shark'], ['whaler shark'], ['Blacktip shark'], [], ['white shark'], ['blacktip shark'], ['Hammerhead shark'], ['white shark'], ['White shark'], ['spinner shark'], ['white shark'], [], ['white shark'], ['white shark'], ['Zambezi shark'], ['Raggedtooth shark'], ['Raggedtooth shark'], ['Tiger shark'], [], ['hammerhead shark'], ['white shark'], ['white shark'], [], ['White shark'], ['spinner shark'], ['blacktip shark'], ['Tiger shark'], ['White shark'], ['lemon shark', 'bull shark'], ['White shark'], ['White shark'], ['Tiger shark'], ['White shark'], ['White shark'], [], ['White shark'], ['White shark'], ['dusky shark'], [], ['White shark'], [], [], [], ['White shark'], ['White shark'], ['White shark'], ['White shark'], [], ['nurse shark'], [], ['whaler shark'], ['White shark'], []]\n"
     ]
    }
   ],
   "source": [
    "SpeciesTemporal=[]\n",
    "for e in data_filter[\"Species \"]:\n",
    "    patron=re.findall(r'\\w{3,}\\s\\bshark', e)\n",
    "    SpeciesTemporal.append(patron)\n",
    "print(SpeciesTemporal)"
   ]
  },
  {
   "cell_type": "code",
   "execution_count": 21,
   "metadata": {},
   "outputs": [
    {
     "name": "stderr",
     "output_type": "stream",
     "text": [
      "/usr/local/lib/python3.7/site-packages/ipykernel_launcher.py:1: SettingWithCopyWarning: \n",
      "A value is trying to be set on a copy of a slice from a DataFrame.\n",
      "Try using .loc[row_indexer,col_indexer] = value instead\n",
      "\n",
      "See the caveats in the documentation: https://pandas.pydata.org/pandas-docs/stable/user_guide/indexing.html#returning-a-view-versus-a-copy\n",
      "  \"\"\"Entry point for launching an IPython kernel.\n"
     ]
    }
   ],
   "source": [
    "data_filter[\"Species\"]=\"\"      #Creo una columna nueva donde actualizaré las especies "
   ]
  },
  {
   "cell_type": "code",
   "execution_count": 22,
   "metadata": {},
   "outputs": [
    {
     "name": "stderr",
     "output_type": "stream",
     "text": [
      "/usr/local/lib/python3.7/site-packages/ipykernel_launcher.py:1: SettingWithCopyWarning: \n",
      "A value is trying to be set on a copy of a slice from a DataFrame.\n",
      "Try using .loc[row_indexer,col_indexer] = value instead\n",
      "\n",
      "See the caveats in the documentation: https://pandas.pydata.org/pandas-docs/stable/user_guide/indexing.html#returning-a-view-versus-a-copy\n",
      "  \"\"\"Entry point for launching an IPython kernel.\n"
     ]
    }
   ],
   "source": [
    "data_filter[\"Species\"]=SpeciesTemporal\n"
   ]
  },
  {
   "cell_type": "code",
   "execution_count": 23,
   "metadata": {},
   "outputs": [],
   "source": [
    "data_filter.Species=data_filter.Species.apply(\",\".join) "
   ]
  },
  {
   "cell_type": "code",
   "execution_count": 24,
   "metadata": {},
   "outputs": [
    {
     "data": {
      "text/plain": [
       "array(['', 'Blacktip shark', 'Bull shark', 'Bull shark,lemon shark',\n",
       "       'Galapagos shark', 'Hammerhead shark', 'Lemon shark', 'Mako shark',\n",
       "       'Nurse shark', 'Raggedtooth shark', 'Reef shark', 'Spinner shark',\n",
       "       'Tiger shark', 'White shark', 'Wobbegong shark', 'Zambezi shark',\n",
       "       'blacktip shark', 'bull shark', 'dusky shark',\n",
       "       'dusky shark,blackfin shark', 'gill shark', 'hammerhead shark',\n",
       "       'juvenile shark', 'lemon shark', 'lemon shark,bull shark',\n",
       "       'metre shark', 'nurse shark', 'reef shark', 'sand shark',\n",
       "       'sandbar shark', 'small shark', 'spinner shark', 'tiger shark',\n",
       "       'whale shark', 'whaler shark', 'white shark',\n",
       "       'white shark,gill shark'], dtype=object)"
      ]
     },
     "execution_count": 24,
     "metadata": {},
     "output_type": "execute_result"
    }
   ],
   "source": [
    "data_filter.Species.sort_values().unique()"
   ]
  },
  {
   "cell_type": "code",
   "execution_count": 25,
   "metadata": {},
   "outputs": [
    {
     "data": {
      "text/plain": [
       "Unknown              158\n",
       "White shark          132\n",
       "Tiger shark           45\n",
       "Spinner shark         22\n",
       "Bull shark            22\n",
       "whale shark           18\n",
       "Blacktip shark        17\n",
       "small shark            9\n",
       "Raggedtooth shark      7\n",
       "Reef shark             5\n",
       "Wobbegong shark        4\n",
       "sand shark             3\n",
       "Nurse shark            3\n",
       "Lemon shark            3\n",
       "Hammerhead shark       2\n",
       "gill shark             2\n",
       "dusky shark            2\n",
       "Mako shark             1\n",
       "Galapagos shark        1\n",
       "Name: Species, dtype: int64"
      ]
     },
     "execution_count": 25,
     "metadata": {},
     "output_type": "execute_result"
    }
   ],
   "source": [
    "#Normalizo la columna Species \n",
    "data_filter.Species=data_filter.Species.replace({                \n",
    "    \"Bull shark,lemon shark\": \"Bull shark\",\n",
    "    \"Zambezi shark\": \"Bull shark\",                    #Same species, different name\n",
    "    \"blacktip shark\": \"Blacktip shark\",\n",
    "    \"bull shark\": \"Bull shark\",\n",
    "    \"dusky shark,blackfin shark\": \"dusky shark\",\n",
    "    \"hammerhead shark\": \"Hammerhead shark\",\n",
    "    \"lemon shark\": \"Lemon shark\",\n",
    "    \"lemon shark,bull shark\": \"Bull shark\",\n",
    "    \"nurse shark\": \"Nurse shark\",\n",
    "    \"sandbar shark\": \"sand shark\",\n",
    "    \"juvenile shark\": \"small shark\",\n",
    "    \"spinner shark\": \"Spinner shark\",\n",
    "    \"reef shark\": \"Reef shark\",\n",
    "    \"tiger shark\": \"Tiger shark\", \n",
    "    \"whaler shark\": \"whale shark\",\n",
    "    \"white shark\":\"White shark\",\n",
    "    \"white shark,gill shark\": \"White shark\",\n",
    "    \"metre shark\":\"small shark\",\n",
    "    \"\": \"Unknown\"                                       #Porque los Nan ahora son strings y no puedo con fillna\n",
    "})\n",
    "\n",
    "data_filter.Species.value_counts()"
   ]
  },
  {
   "cell_type": "code",
   "execution_count": 26,
   "metadata": {},
   "outputs": [
    {
     "data": {
      "text/html": [
       "<div>\n",
       "<style scoped>\n",
       "    .dataframe tbody tr th:only-of-type {\n",
       "        vertical-align: middle;\n",
       "    }\n",
       "\n",
       "    .dataframe tbody tr th {\n",
       "        vertical-align: top;\n",
       "    }\n",
       "\n",
       "    .dataframe thead th {\n",
       "        text-align: right;\n",
       "    }\n",
       "</style>\n",
       "<table border=\"1\" class=\"dataframe\">\n",
       "  <thead>\n",
       "    <tr style=\"text-align: right;\">\n",
       "      <th></th>\n",
       "      <th>Year</th>\n",
       "      <th>Country</th>\n",
       "      <th>Activity</th>\n",
       "      <th>Fatal (Y/N)</th>\n",
       "      <th>Time</th>\n",
       "      <th>Species</th>\n",
       "      <th>Species</th>\n",
       "    </tr>\n",
       "  </thead>\n",
       "  <tbody>\n",
       "    <tr>\n",
       "      <th>16</th>\n",
       "      <td>2018.0</td>\n",
       "      <td>AUSTRALIA</td>\n",
       "      <td>Surfing</td>\n",
       "      <td>N</td>\n",
       "      <td>Morning</td>\n",
       "      <td>Shark involvement not confirmed</td>\n",
       "      <td>Unknown</td>\n",
       "    </tr>\n",
       "    <tr>\n",
       "      <th>20</th>\n",
       "      <td>2018.0</td>\n",
       "      <td>AUSTRALIA</td>\n",
       "      <td>Surfing</td>\n",
       "      <td>N</td>\n",
       "      <td>Early Morning</td>\n",
       "      <td>Questionable</td>\n",
       "      <td>Unknown</td>\n",
       "    </tr>\n",
       "    <tr>\n",
       "      <th>21</th>\n",
       "      <td>2018.0</td>\n",
       "      <td>AUSTRALIA</td>\n",
       "      <td>Surfing</td>\n",
       "      <td>N</td>\n",
       "      <td>Early Morning</td>\n",
       "      <td>3 m shark</td>\n",
       "      <td>Unknown</td>\n",
       "    </tr>\n",
       "    <tr>\n",
       "      <th>22</th>\n",
       "      <td>2018.0</td>\n",
       "      <td>AUSTRALIA</td>\n",
       "      <td>Surfing</td>\n",
       "      <td>N</td>\n",
       "      <td>Afternoon</td>\n",
       "      <td>White shark, 3.5 m</td>\n",
       "      <td>White shark</td>\n",
       "    </tr>\n",
       "    <tr>\n",
       "      <th>30</th>\n",
       "      <td>2018.0</td>\n",
       "      <td>BAHAMAS</td>\n",
       "      <td>Surfing</td>\n",
       "      <td>N</td>\n",
       "      <td>Early Morning</td>\n",
       "      <td>Tiger shark</td>\n",
       "      <td>Tiger shark</td>\n",
       "    </tr>\n",
       "    <tr>\n",
       "      <th>...</th>\n",
       "      <td>...</td>\n",
       "      <td>...</td>\n",
       "      <td>...</td>\n",
       "      <td>...</td>\n",
       "      <td>...</td>\n",
       "      <td>...</td>\n",
       "      <td>...</td>\n",
       "    </tr>\n",
       "    <tr>\n",
       "      <th>3604</th>\n",
       "      <td>1965.0</td>\n",
       "      <td>AUSTRALIA</td>\n",
       "      <td>Surfing</td>\n",
       "      <td>N</td>\n",
       "      <td>Afternoon</td>\n",
       "      <td>Grey nurse shark, 2.4 m [8']</td>\n",
       "      <td>Nurse shark</td>\n",
       "    </tr>\n",
       "    <tr>\n",
       "      <th>3740</th>\n",
       "      <td>1963.0</td>\n",
       "      <td>AUSTRALIA</td>\n",
       "      <td>Surfing</td>\n",
       "      <td>N</td>\n",
       "      <td>Early Morning</td>\n",
       "      <td>1.5 m [5'] shark</td>\n",
       "      <td>Unknown</td>\n",
       "    </tr>\n",
       "    <tr>\n",
       "      <th>3848</th>\n",
       "      <td>1962.0</td>\n",
       "      <td>AUSTRALIA</td>\n",
       "      <td>Surfing</td>\n",
       "      <td>N</td>\n",
       "      <td>Morning</td>\n",
       "      <td>Bronze whaler shark, 2.1 m [7'] shark</td>\n",
       "      <td>whale shark</td>\n",
       "    </tr>\n",
       "    <tr>\n",
       "      <th>3999</th>\n",
       "      <td>1960.0</td>\n",
       "      <td>AUSTRALIA</td>\n",
       "      <td>Surfing</td>\n",
       "      <td>N</td>\n",
       "      <td>Late Afternoon</td>\n",
       "      <td>White shark, 3.7 m [12']</td>\n",
       "      <td>White shark</td>\n",
       "    </tr>\n",
       "    <tr>\n",
       "      <th>5280</th>\n",
       "      <td>1918.0</td>\n",
       "      <td>AUSTRALIA</td>\n",
       "      <td>Surfing</td>\n",
       "      <td>N</td>\n",
       "      <td>Afternoon</td>\n",
       "      <td>12' shark</td>\n",
       "      <td>Unknown</td>\n",
       "    </tr>\n",
       "  </tbody>\n",
       "</table>\n",
       "<p>456 rows × 7 columns</p>\n",
       "</div>"
      ],
      "text/plain": [
       "        Year    Country Activity Fatal (Y/N)            Time  \\\n",
       "16    2018.0  AUSTRALIA  Surfing           N         Morning   \n",
       "20    2018.0  AUSTRALIA  Surfing           N   Early Morning   \n",
       "21    2018.0  AUSTRALIA  Surfing           N   Early Morning   \n",
       "22    2018.0  AUSTRALIA  Surfing           N       Afternoon   \n",
       "30    2018.0    BAHAMAS  Surfing           N   Early Morning   \n",
       "...      ...        ...      ...         ...             ...   \n",
       "3604  1965.0  AUSTRALIA  Surfing           N       Afternoon   \n",
       "3740  1963.0  AUSTRALIA  Surfing           N   Early Morning   \n",
       "3848  1962.0  AUSTRALIA  Surfing           N         Morning   \n",
       "3999  1960.0  AUSTRALIA  Surfing           N  Late Afternoon   \n",
       "5280  1918.0  AUSTRALIA  Surfing           N       Afternoon   \n",
       "\n",
       "                                   Species       Species  \n",
       "16          Shark involvement not confirmed      Unknown  \n",
       "20                             Questionable      Unknown  \n",
       "21                                3 m shark      Unknown  \n",
       "22                       White shark, 3.5 m  White shark  \n",
       "30                              Tiger shark  Tiger shark  \n",
       "...                                     ...          ...  \n",
       "3604          Grey nurse shark, 2.4 m [8']   Nurse shark  \n",
       "3740                       1.5 m [5'] shark      Unknown  \n",
       "3848  Bronze whaler shark, 2.1 m [7'] shark  whale shark  \n",
       "3999              White shark, 3.7 m [12']   White shark  \n",
       "5280                              12' shark      Unknown  \n",
       "\n",
       "[456 rows x 7 columns]"
      ]
     },
     "execution_count": 26,
     "metadata": {},
     "output_type": "execute_result"
    }
   ],
   "source": [
    "data_filter"
   ]
  },
  {
   "cell_type": "code",
   "execution_count": 27,
   "metadata": {},
   "outputs": [
    {
     "data": {
      "text/plain": [
       "16    2018.0\n",
       "20    2018.0\n",
       "21    2018.0\n",
       "22    2018.0\n",
       "30    2018.0\n",
       "Name: Year, dtype: float64"
      ]
     },
     "execution_count": 27,
     "metadata": {},
     "output_type": "execute_result"
    }
   ],
   "source": [
    "data_filter.Year.head()  #Normalizo la columna year"
   ]
  },
  {
   "cell_type": "code",
   "execution_count": 28,
   "metadata": {},
   "outputs": [
    {
     "name": "stderr",
     "output_type": "stream",
     "text": [
      "/usr/local/lib/python3.7/site-packages/pandas/core/generic.py:5303: SettingWithCopyWarning: \n",
      "A value is trying to be set on a copy of a slice from a DataFrame.\n",
      "Try using .loc[row_indexer,col_indexer] = value instead\n",
      "\n",
      "See the caveats in the documentation: https://pandas.pydata.org/pandas-docs/stable/user_guide/indexing.html#returning-a-view-versus-a-copy\n",
      "  self[name] = value\n"
     ]
    }
   ],
   "source": [
    "data_filter.Year=data_filter.Year.astype(np.int64)"
   ]
  },
  {
   "cell_type": "code",
   "execution_count": 29,
   "metadata": {},
   "outputs": [],
   "source": [
    "data_clean=data_filter.drop([\"Species \"],axis=1)    #Elimino la antigua columna Species y creo un df nuevo para el análisis"
   ]
  },
  {
   "cell_type": "code",
   "execution_count": 30,
   "metadata": {},
   "outputs": [
    {
     "data": {
      "text/plain": [
       "Year           0\n",
       "Country        0\n",
       "Activity       0\n",
       "Fatal (Y/N)    0\n",
       "Time           0\n",
       "Species        0\n",
       "dtype: int64"
      ]
     },
     "execution_count": 30,
     "metadata": {},
     "output_type": "execute_result"
    }
   ],
   "source": [
    "data_clean.isnull().sum()"
   ]
  },
  {
   "cell_type": "code",
   "execution_count": 31,
   "metadata": {},
   "outputs": [
    {
     "data": {
      "text/html": [
       "<div>\n",
       "<style scoped>\n",
       "    .dataframe tbody tr th:only-of-type {\n",
       "        vertical-align: middle;\n",
       "    }\n",
       "\n",
       "    .dataframe tbody tr th {\n",
       "        vertical-align: top;\n",
       "    }\n",
       "\n",
       "    .dataframe thead th {\n",
       "        text-align: right;\n",
       "    }\n",
       "</style>\n",
       "<table border=\"1\" class=\"dataframe\">\n",
       "  <thead>\n",
       "    <tr style=\"text-align: right;\">\n",
       "      <th></th>\n",
       "      <th>Year</th>\n",
       "      <th>Country</th>\n",
       "      <th>Activity</th>\n",
       "      <th>Fatal (Y/N)</th>\n",
       "      <th>Time</th>\n",
       "      <th>Species</th>\n",
       "    </tr>\n",
       "  </thead>\n",
       "  <tbody>\n",
       "    <tr>\n",
       "      <th>16</th>\n",
       "      <td>2018</td>\n",
       "      <td>AUSTRALIA</td>\n",
       "      <td>Surfing</td>\n",
       "      <td>N</td>\n",
       "      <td>Morning</td>\n",
       "      <td>Unknown</td>\n",
       "    </tr>\n",
       "    <tr>\n",
       "      <th>20</th>\n",
       "      <td>2018</td>\n",
       "      <td>AUSTRALIA</td>\n",
       "      <td>Surfing</td>\n",
       "      <td>N</td>\n",
       "      <td>Early Morning</td>\n",
       "      <td>Unknown</td>\n",
       "    </tr>\n",
       "    <tr>\n",
       "      <th>21</th>\n",
       "      <td>2018</td>\n",
       "      <td>AUSTRALIA</td>\n",
       "      <td>Surfing</td>\n",
       "      <td>N</td>\n",
       "      <td>Early Morning</td>\n",
       "      <td>Unknown</td>\n",
       "    </tr>\n",
       "    <tr>\n",
       "      <th>22</th>\n",
       "      <td>2018</td>\n",
       "      <td>AUSTRALIA</td>\n",
       "      <td>Surfing</td>\n",
       "      <td>N</td>\n",
       "      <td>Afternoon</td>\n",
       "      <td>White shark</td>\n",
       "    </tr>\n",
       "    <tr>\n",
       "      <th>30</th>\n",
       "      <td>2018</td>\n",
       "      <td>BAHAMAS</td>\n",
       "      <td>Surfing</td>\n",
       "      <td>N</td>\n",
       "      <td>Early Morning</td>\n",
       "      <td>Tiger shark</td>\n",
       "    </tr>\n",
       "    <tr>\n",
       "      <th>...</th>\n",
       "      <td>...</td>\n",
       "      <td>...</td>\n",
       "      <td>...</td>\n",
       "      <td>...</td>\n",
       "      <td>...</td>\n",
       "      <td>...</td>\n",
       "    </tr>\n",
       "    <tr>\n",
       "      <th>3604</th>\n",
       "      <td>1965</td>\n",
       "      <td>AUSTRALIA</td>\n",
       "      <td>Surfing</td>\n",
       "      <td>N</td>\n",
       "      <td>Afternoon</td>\n",
       "      <td>Nurse shark</td>\n",
       "    </tr>\n",
       "    <tr>\n",
       "      <th>3740</th>\n",
       "      <td>1963</td>\n",
       "      <td>AUSTRALIA</td>\n",
       "      <td>Surfing</td>\n",
       "      <td>N</td>\n",
       "      <td>Early Morning</td>\n",
       "      <td>Unknown</td>\n",
       "    </tr>\n",
       "    <tr>\n",
       "      <th>3848</th>\n",
       "      <td>1962</td>\n",
       "      <td>AUSTRALIA</td>\n",
       "      <td>Surfing</td>\n",
       "      <td>N</td>\n",
       "      <td>Morning</td>\n",
       "      <td>whale shark</td>\n",
       "    </tr>\n",
       "    <tr>\n",
       "      <th>3999</th>\n",
       "      <td>1960</td>\n",
       "      <td>AUSTRALIA</td>\n",
       "      <td>Surfing</td>\n",
       "      <td>N</td>\n",
       "      <td>Late Afternoon</td>\n",
       "      <td>White shark</td>\n",
       "    </tr>\n",
       "    <tr>\n",
       "      <th>5280</th>\n",
       "      <td>1918</td>\n",
       "      <td>AUSTRALIA</td>\n",
       "      <td>Surfing</td>\n",
       "      <td>N</td>\n",
       "      <td>Afternoon</td>\n",
       "      <td>Unknown</td>\n",
       "    </tr>\n",
       "  </tbody>\n",
       "</table>\n",
       "<p>456 rows × 6 columns</p>\n",
       "</div>"
      ],
      "text/plain": [
       "      Year    Country Activity Fatal (Y/N)            Time      Species\n",
       "16    2018  AUSTRALIA  Surfing           N         Morning      Unknown\n",
       "20    2018  AUSTRALIA  Surfing           N   Early Morning      Unknown\n",
       "21    2018  AUSTRALIA  Surfing           N   Early Morning      Unknown\n",
       "22    2018  AUSTRALIA  Surfing           N       Afternoon  White shark\n",
       "30    2018    BAHAMAS  Surfing           N   Early Morning  Tiger shark\n",
       "...    ...        ...      ...         ...             ...          ...\n",
       "3604  1965  AUSTRALIA  Surfing           N       Afternoon  Nurse shark\n",
       "3740  1963  AUSTRALIA  Surfing           N   Early Morning      Unknown\n",
       "3848  1962  AUSTRALIA  Surfing           N         Morning  whale shark\n",
       "3999  1960  AUSTRALIA  Surfing           N  Late Afternoon  White shark\n",
       "5280  1918  AUSTRALIA  Surfing           N       Afternoon      Unknown\n",
       "\n",
       "[456 rows x 6 columns]"
      ]
     },
     "execution_count": 31,
     "metadata": {},
     "output_type": "execute_result"
    }
   ],
   "source": [
    "data_clean"
   ]
  },
  {
   "cell_type": "code",
   "execution_count": 32,
   "metadata": {},
   "outputs": [],
   "source": [
    "data_clean.to_csv(\"../../CSV/SharkAttackCleaning.csv\") #Lo convierto en CSV para trabajar otro Jupyter de análisis"
   ]
  }
 ],
 "metadata": {
  "kernelspec": {
   "display_name": "Python 3",
   "language": "python",
   "name": "python3"
  },
  "language_info": {
   "codemirror_mode": {
    "name": "ipython",
    "version": 3
   },
   "file_extension": ".py",
   "mimetype": "text/x-python",
   "name": "python",
   "nbconvert_exporter": "python",
   "pygments_lexer": "ipython3",
   "version": "3.7.7"
  }
 },
 "nbformat": 4,
 "nbformat_minor": 4
}
